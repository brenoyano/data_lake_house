{
 "cells": [
  {
   "cell_type": "code",
   "execution_count": 1,
   "id": "f2b494b5-4631-43ab-b9b4-ac35598bb457",
   "metadata": {},
   "outputs": [
    {
     "name": "stdout",
     "output_type": "stream",
     "text": [
      "Collecting delta-spark==2.4.0\n",
      "  Downloading delta_spark-2.4.0-py3-none-any.whl (20 kB)\n",
      "Requirement already satisfied: pyspark<3.5.0,>=3.4.0 in /usr/local/spark/python (from delta-spark==2.4.0) (3.4.0)\n",
      "Requirement already satisfied: importlib-metadata>=1.0.0 in /opt/conda/lib/python3.11/site-packages (from delta-spark==2.4.0) (6.6.0)\n",
      "Requirement already satisfied: zipp>=0.5 in /opt/conda/lib/python3.11/site-packages (from importlib-metadata>=1.0.0->delta-spark==2.4.0) (3.15.0)\n",
      "Collecting py4j==0.10.9.7 (from pyspark<3.5.0,>=3.4.0->delta-spark==2.4.0)\n",
      "  Downloading py4j-0.10.9.7-py2.py3-none-any.whl (200 kB)\n",
      "\u001b[2K     \u001b[90m━━━━━━━━━━━━━━━━━━━━━━━━━━━━━━━━━━━━━━━\u001b[0m \u001b[32m200.5/200.5 kB\u001b[0m \u001b[31m5.4 MB/s\u001b[0m eta \u001b[36m0:00:00\u001b[0ma \u001b[36m0:00:01\u001b[0m\n",
      "\u001b[?25hInstalling collected packages: py4j, delta-spark\n",
      "Successfully installed delta-spark-2.4.0 py4j-0.10.9.7\n"
     ]
    }
   ],
   "source": [
    "!pip install delta-spark==2.4.0"
   ]
  },
  {
   "cell_type": "code",
   "execution_count": 2,
   "id": "b25fda66-49ac-43bd-82a1-e42c9ae4bcdc",
   "metadata": {},
   "outputs": [],
   "source": [
    "import pyspark\n",
    "from delta import *\n",
    "\n",
    "builder = pyspark.sql.SparkSession.builder.appName(\"MyApp\") \\\n",
    "    .config(\"spark.sql.extensions\", \"io.delta.sql.DeltaSparkSessionExtension\") \\\n",
    "    .config(\"spark.sql.catalog.spark_catalog\", \"org.apache.spark.sql.delta.catalog.DeltaCatalog\")\n",
    "\n",
    "spark = configure_spark_with_delta_pip(builder).getOrCreate()"
   ]
  },
  {
   "cell_type": "code",
   "execution_count": 13,
   "id": "d6f287c1",
   "metadata": {
    "vscode": {
     "languageId": "sql"
    }
   },
   "outputs": [],
   "source": [
    "from IPython.core.magic import (register_line_magic, register_cell_magic,\n",
    "register_line_cell_magic)\n",
    "import ipywidgets as w\n",
    "from IPython.display import FileLink, FileLinks"
   ]
  },
  {
   "cell_type": "code",
   "execution_count": 53,
   "id": "fbff6544",
   "metadata": {},
   "outputs": [],
   "source": [
    "@register_cell_magic\n",
    "def sql(cell,query):\n",
    "    from datetime import datetime\n",
    "\n",
    "    now = datetime.now()\n",
    "    now = now.strftime(\"%Y%m%d%H%M%S\")\n",
    "    toggle = w.ToggleButton(description='Download',\n",
    "                           layout=w.Layout(width='100px')\n",
    "                           )\n",
    "    out = w.Output(layout=w.Layout(border = '1px solid black'))\n",
    "    table_query = spark.sql(str(query)).limit(1000).toPandas().head()\n",
    "    with out:\n",
    "        display('Depending on the file size, this may take some minutes.')\n",
    "        spark.sql(str(query)).toPandas().head().to_csv(f'./{now}_data.csv', index=False)\n",
    "    display(table_query)\n",
    "    display(toggle)\n",
    "    display(out)"
   ]
  },
  {
   "cell_type": "code",
   "execution_count": 5,
   "id": "fca46427",
   "metadata": {
    "vscode": {
     "languageId": "sql"
    }
   },
   "outputs": [
    {
     "data": {
      "text/plain": [
       "DataFrame[]"
      ]
     },
     "execution_count": 5,
     "metadata": {},
     "output_type": "execute_result"
    }
   ],
   "source": [
    "spark.sql(\"CREATE TABLE delta.`/tmp/delta-table` USING DELTA AS SELECT col1 as id FROM VALUES 0,1,2,3,4;\")"
   ]
  },
  {
   "cell_type": "code",
   "execution_count": 6,
   "id": "872ffdb5",
   "metadata": {
    "vscode": {
     "languageId": "sql"
    }
   },
   "outputs": [],
   "source": [
    "df = spark.sql(\"SELECT * FROM delta.`/tmp/delta-table`\")"
   ]
  },
  {
   "cell_type": "code",
   "execution_count": 7,
   "id": "1c4bb02b",
   "metadata": {
    "vscode": {
     "languageId": "sql"
    }
   },
   "outputs": [],
   "source": [
    "df = df.limit(1000).toPandas().head()"
   ]
  },
  {
   "cell_type": "code",
   "execution_count": 54,
   "id": "d8dfa5d2",
   "metadata": {
    "vscode": {
     "languageId": "sql"
    }
   },
   "outputs": [
    {
     "data": {
      "text/html": [
       "<div>\n",
       "<style scoped>\n",
       "    .dataframe tbody tr th:only-of-type {\n",
       "        vertical-align: middle;\n",
       "    }\n",
       "\n",
       "    .dataframe tbody tr th {\n",
       "        vertical-align: top;\n",
       "    }\n",
       "\n",
       "    .dataframe thead th {\n",
       "        text-align: right;\n",
       "    }\n",
       "</style>\n",
       "<table border=\"1\" class=\"dataframe\">\n",
       "  <thead>\n",
       "    <tr style=\"text-align: right;\">\n",
       "      <th></th>\n",
       "      <th>id</th>\n",
       "    </tr>\n",
       "  </thead>\n",
       "  <tbody>\n",
       "    <tr>\n",
       "      <th>0</th>\n",
       "      <td>3</td>\n",
       "    </tr>\n",
       "    <tr>\n",
       "      <th>1</th>\n",
       "      <td>1</td>\n",
       "    </tr>\n",
       "    <tr>\n",
       "      <th>2</th>\n",
       "      <td>2</td>\n",
       "    </tr>\n",
       "    <tr>\n",
       "      <th>3</th>\n",
       "      <td>0</td>\n",
       "    </tr>\n",
       "    <tr>\n",
       "      <th>4</th>\n",
       "      <td>4</td>\n",
       "    </tr>\n",
       "  </tbody>\n",
       "</table>\n",
       "</div>"
      ],
      "text/plain": [
       "   id\n",
       "0   3\n",
       "1   1\n",
       "2   2\n",
       "3   0\n",
       "4   4"
      ]
     },
     "metadata": {},
     "output_type": "display_data"
    },
    {
     "data": {
      "application/vnd.jupyter.widget-view+json": {
       "model_id": "055b250c67ee40e6a4fa04c131423658",
       "version_major": 2,
       "version_minor": 0
      },
      "text/plain": [
       "ToggleButton(value=False, description='Download', layout=Layout(width='100px'))"
      ]
     },
     "metadata": {},
     "output_type": "display_data"
    },
    {
     "data": {
      "application/vnd.jupyter.widget-view+json": {
       "model_id": "18bcf11c03d74d82a3e0c2d8237e3b48",
       "version_major": 2,
       "version_minor": 0
      },
      "text/plain": [
       "Output(layout=Layout(border_bottom='1px solid black', border_left='1px solid black', border_right='1px solid b…"
      ]
     },
     "metadata": {},
     "output_type": "display_data"
    }
   ],
   "source": [
    "%%sql\n",
    "SELECT * FROM delta.`/tmp/delta-table`"
   ]
  },
  {
   "cell_type": "code",
   "execution_count": 79,
   "id": "660b1de3",
   "metadata": {
    "vscode": {
     "languageId": "sql"
    }
   },
   "outputs": [
    {
     "name": "stdout",
     "output_type": "stream",
     "text": [
      "\n",
      "Automagic is ON, % prefix IS NOT needed for line magics.\n"
     ]
    }
   ],
   "source": [
    " %automagic 1"
   ]
  },
  {
   "cell_type": "code",
   "execution_count": 80,
   "id": "e5668cd4",
   "metadata": {
    "vscode": {
     "languageId": "sql"
    }
   },
   "outputs": [
    {
     "data": {
      "text/plain": [
       "<function __main__.dsql(cell, query)>"
      ]
     },
     "execution_count": 80,
     "metadata": {},
     "output_type": "execute_result"
    }
   ],
   "source": [
    "dsql"
   ]
  },
  {
   "cell_type": "code",
   "execution_count": 11,
   "id": "8b61ce62",
   "metadata": {
    "tags": [],
    "vscode": {
     "languageId": "sql"
    }
   },
   "outputs": [
    {
     "name": "stderr",
     "output_type": "stream",
     "text": [
      "UsageError: Cell magic `%%dsql` not found.\n"
     ]
    }
   ],
   "source": [
    "%%dsql\n",
    "SELECT * FROM delta.`/tmp/delta-table`"
   ]
  },
  {
   "cell_type": "code",
   "execution_count": 20,
   "id": "04911ba2",
   "metadata": {
    "vscode": {
     "languageId": "sql"
    }
   },
   "outputs": [
    {
     "data": {
      "text/plain": [
       "None"
      ]
     },
     "metadata": {},
     "output_type": "display_data"
    },
    {
     "data": {
      "text/html": [
       "/datalake/.query/<br>\n",
       "&nbsp;&nbsp;<a href='/datalake/.query/data2.csv' target='_blank'>data2.csv</a><br>\n",
       "&nbsp;&nbsp;<a href='/datalake/.query/data.csv' target='_blank'>data.csv</a><br>"
      ],
      "text/plain": [
       "/datalake/.query/\n",
       "  data2.csv\n",
       "  data.csv"
      ]
     },
     "execution_count": 20,
     "metadata": {},
     "output_type": "execute_result"
    }
   ],
   "source": [
    "\n",
    "\n",
    "a = df.to_csv('/datalake/.query/data2.csv', index=False)\n",
    "\n",
    "display(a)\n",
    "\n",
    "FileLinks('/datalake/.query/')"
   ]
  },
  {
   "cell_type": "code",
   "execution_count": 15,
   "id": "933851b8",
   "metadata": {
    "vscode": {
     "languageId": "sql"
    }
   },
   "outputs": [
    {
     "data": {
      "text/html": [
       "<a href='/datalake/.query/data.csv' target='_blank'>/datalake/.query/data.csv</a><br>"
      ],
      "text/plain": [
       "/datalake/.query/data.csv"
      ]
     },
     "metadata": {},
     "output_type": "display_data"
    }
   ],
   "source": [
    " display(FileLink(path ='/datalake/.query/data2.csv'))"
   ]
  },
  {
   "cell_type": "code",
   "execution_count": 16,
   "id": "c2e3d624-0d44-41ad-9602-9140a2dfa6d8",
   "metadata": {},
   "outputs": [],
   "source": [
    "def download_file( file_name : str ) -> None:\n",
    "    import os\n",
    "    from IPython.display import display, FileLink\n",
    "    \n",
    "    base_name : str = os.path.basename( file_name )\n",
    "    k_info_file : str = \".download_file_info.txt\"\n",
    "    \n",
    "    # Remove previous link\n",
    "    if os.path.isfile( k_info_file ):\n",
    "        with open( k_info_file, \"r\" ) as fin:\n",
    "            previous_file = fin.read()\n",
    "        \n",
    "        if os.path.isfile( previous_file ):\n",
    "            print( \"Removing previous file link.\" )\n",
    "            os.remove( previous_file )\n",
    "    \n",
    "    # Remember current link\n",
    "    with open( k_info_file, \"w\" ) as fout:\n",
    "        fout.write( base_name )\n",
    "    \n",
    "    # Create the link\n",
    "    assert not os.path.isfile( base_name ), \"Name in use.\"\n",
    "    os.symlink( file_name, base_name )\n",
    "    \n",
    "    # Return the link\n",
    "    display( FileLink( base_name ) )"
   ]
  },
  {
   "cell_type": "code",
   "execution_count": 23,
   "id": "24225452-b2bb-4237-97b9-7b82eb2e6e82",
   "metadata": {
    "scrolled": true
   },
   "outputs": [
    {
     "name": "stdout",
     "output_type": "stream",
     "text": [
      "Removing previous file link.\n"
     ]
    },
    {
     "data": {
      "text/html": [
       "<a href='data2.csv' target='_blank'>data2.csv</a><br>"
      ],
      "text/plain": [
       "/datalake/data_processing/data2.csv"
      ]
     },
     "metadata": {},
     "output_type": "display_data"
    }
   ],
   "source": [
    "download_file('/datalake/.query/data2.csv')"
   ]
  },
  {
   "cell_type": "code",
   "execution_count": 22,
   "id": "1c66c2a5-b62b-45b4-9d31-7f9166899929",
   "metadata": {},
   "outputs": [
    {
     "data": {
      "text/html": [
       "Click here to download: <a href='/datalake/.query/data2.csv' target='_blank'>/datalake/.query/data2.csv</a><br>"
      ],
      "text/plain": [
       "/datalake/.query/data2.csv"
      ]
     },
     "metadata": {},
     "output_type": "display_data"
    }
   ],
   "source": [
    "local_file = FileLink('/datalake/.query/data2.csv', result_html_prefix=\"Click here to download: \")\n",
    "display(local_file)"
   ]
  },
  {
   "cell_type": "code",
   "execution_count": 18,
   "id": "3edcecd1",
   "metadata": {},
   "outputs": [],
   "source": [
    "from __future__ import print_function\n",
    "import ipywidgets as widgets\n",
    "from IPython.display import display, Javascript\n",
    "\n",
    "\n",
    "# recommended icons: download, arrow-circle-down, cloud-download\n",
    "# icons come from http://fontawesome.io/icons/\n",
    "# won't be visible on ipywidgets <  6.0\n",
    "\n",
    "# success = green\n",
    "# info = blue\n",
    "# warning = orange\n",
    "# danger = red\n",
    "\n",
    "class Download(object):\n",
    "\n",
    "    def __init__(self, filename, **kwargs):\n",
    "\n",
    "        label = kwargs.get('label', filename)\n",
    "        icon = kwargs.get('icon', '')\n",
    "        tooltip = kwargs.get('tooltip', '')\n",
    "        style = kwargs.get('style', '')\n",
    "        bcb = kwargs.get('cb', None)\n",
    "\n",
    "        self.w = widgets.Button(\n",
    "            description=label,\n",
    "            icon=icon,\n",
    "            tooltip=tooltip,\n",
    "            button_style=style\n",
    "            )\n",
    "\n",
    "        def button_cb(filename):\n",
    "\n",
    "            js = Javascript(\"window.open('%s')\" % filename)\n",
    "\n",
    "            def cb(x):\n",
    "                if bcb is not None:\n",
    "                    bcb()\n",
    "                display(js)\n",
    "            return cb\n",
    "\n",
    "        self.w.on_click(button_cb(filename))\n",
    "\n",
    "    def _ipython_display_(self):\n",
    "        self.w._ipython_display_()"
   ]
  },
  {
   "cell_type": "code",
   "execution_count": null,
   "id": "9bce79df",
   "metadata": {},
   "outputs": [],
   "source": [
    "Download(object)"
   ]
  },
  {
   "cell_type": "code",
   "execution_count": 32,
   "id": "2db920e3-727f-4925-8e3f-501448730644",
   "metadata": {},
   "outputs": [
    {
     "data": {
      "application/vnd.jupyter.widget-view+json": {
       "model_id": "3fe6c726b635468e96cdcd6854e06d06",
       "version_major": 2,
       "version_minor": 0
      },
      "text/plain": [
       "ToggleButton(value=False, description='click me')"
      ]
     },
     "metadata": {},
     "output_type": "display_data"
    },
    {
     "data": {
      "application/vnd.jupyter.widget-view+json": {
       "model_id": "107fb117818144c2862654598c86dd0d",
       "version_major": 2,
       "version_minor": 0
      },
      "text/plain": [
       "Output(layout=Layout(border_bottom='1px solid black', border_left='1px solid black', border_right='1px solid b…"
      ]
     },
     "metadata": {},
     "output_type": "display_data"
    }
   ],
   "source": [
    "import ipywidgets as w\n",
    "toggle = w.ToggleButton(description='Download')\n",
    "out = w.Output(layout=w.Layout(border = '1px solid black'))\n",
    "\n",
    "def fun(obj):\n",
    "    with out:\n",
    "        if obj['new']:  \n",
    "            display('asd')\n",
    "        else:\n",
    "            out.clear_output()\n",
    "\n",
    "toggle.observe(fun, 'value')\n",
    "display(toggle)\n",
    "display(out)"
   ]
  },
  {
   "cell_type": "code",
   "execution_count": null,
   "id": "cb1060a1-4500-4b9a-8316-2a68109180da",
   "metadata": {},
   "outputs": [],
   "source": []
  }
 ],
 "metadata": {
  "kernelspec": {
   "display_name": "Python 3 (ipykernel)",
   "language": "python",
   "name": "python3"
  },
  "language_info": {
   "codemirror_mode": {
    "name": "ipython",
    "version": 3
   },
   "file_extension": ".py",
   "mimetype": "text/x-python",
   "name": "python",
   "nbconvert_exporter": "python",
   "pygments_lexer": "ipython3",
   "version": "3.11.3"
  }
 },
 "nbformat": 4,
 "nbformat_minor": 5
}
